{
 "cells": [
  {
   "cell_type": "code",
   "execution_count": 4,
   "metadata": {},
   "outputs": [],
   "source": [
    "import pandas as pd\n",
    "import os\n",
    "import json\n",
    "import librosa\n"
   ]
  },
  {
   "cell_type": "code",
   "execution_count": 7,
   "metadata": {},
   "outputs": [],
   "source": [
    "datasets = [\n",
    "    'ast_afrikaans_english_scripts', \n",
    "    'ast_black_english_scripts',\n",
    "    'coraal_scripts',\n",
    "    'hisp_eng_scripts',\n",
    "    'librispeechtrain_scripts',\n",
    "    'maheshchandra_scripts',\n",
    "    'wsjcam0_scripts'\n",
    "]"
   ]
  },
  {
   "cell_type": "code",
   "execution_count": 17,
   "metadata": {},
   "outputs": [],
   "source": [
    "dataset2dialect = {\n",
    "    'ast_afrikaans_english_scripts': 'afrikaan', \n",
    "    'ast_black_english_scripts': 'xhosa_zulu_sotho',\n",
    "    'coraal_scripts': 'africa_american',\n",
    "    'hisp_eng_scripts': 'spanish_central_south_america',\n",
    "    'librispeechtrain_scripts': 'american',\n",
    "    'maheshchandra_scripts': 'indian',\n",
    "    'wsjcam0_scripts': 'british'\n",
    "}"
   ]
  },
  {
   "cell_type": "code",
   "execution_count": 22,
   "metadata": {},
   "outputs": [],
   "source": [
    "dialect2id = {d: i for i, d in enumerate(sorted(list(dataset2dialect.values())))}"
   ]
  },
  {
   "cell_type": "code",
   "execution_count": 23,
   "metadata": {},
   "outputs": [
    {
     "data": {
      "text/plain": [
       "{'africa_american': 0,\n",
       " 'afrikaan': 1,\n",
       " 'american': 2,\n",
       " 'british': 3,\n",
       " 'indian': 4,\n",
       " 'spanish_central_south_america': 5,\n",
       " 'xhosa_zulu_sotho': 6}"
      ]
     },
     "execution_count": 23,
     "metadata": {},
     "output_type": "execute_result"
    }
   ],
   "source": [
    "dialect2id"
   ]
  },
  {
   "cell_type": "code",
   "execution_count": 59,
   "metadata": {},
   "outputs": [],
   "source": [
    "with open('labels.json', 'r') as f:\n",
    "    labels = json.load(f)"
   ]
  },
  {
   "cell_type": "code",
   "execution_count": 61,
   "metadata": {},
   "outputs": [],
   "source": [
    "label2int = {l: i for i, l in enumerate(labels)}"
   ]
  },
  {
   "cell_type": "code",
   "execution_count": 63,
   "metadata": {},
   "outputs": [
    {
     "data": {
      "text/plain": [
       "{'_': 0,\n",
       " \"'\": 1,\n",
       " 'A': 2,\n",
       " 'B': 3,\n",
       " 'C': 4,\n",
       " 'D': 5,\n",
       " 'E': 6,\n",
       " 'F': 7,\n",
       " 'G': 8,\n",
       " 'H': 9,\n",
       " 'I': 10,\n",
       " 'J': 11,\n",
       " 'K': 12,\n",
       " 'L': 13,\n",
       " 'M': 14,\n",
       " 'N': 15,\n",
       " 'O': 16,\n",
       " 'P': 17,\n",
       " 'Q': 18,\n",
       " 'R': 19,\n",
       " 'S': 20,\n",
       " 'T': 21,\n",
       " 'U': 22,\n",
       " 'V': 23,\n",
       " 'W': 24,\n",
       " 'X': 25,\n",
       " 'Y': 26,\n",
       " 'Z': 27,\n",
       " ' ': 28}"
      ]
     },
     "execution_count": 63,
     "metadata": {},
     "output_type": "execute_result"
    }
   ],
   "source": [
    "label2int"
   ]
  },
  {
   "cell_type": "code",
   "execution_count": 177,
   "metadata": {},
   "outputs": [
    {
     "name": "stdout",
     "output_type": "stream",
     "text": [
      "ast_afrikaans_english_scripts Index(['file', 'trans', 'speaker', 'start', 'end'], dtype='object')\n",
      "ast_black_english_scripts Index(['file', 'trans', 'speaker', 'start', 'end'], dtype='object')\n",
      "coraal_scripts Index(['file', 'trans', 'speaker', 'start', 'end'], dtype='object')\n",
      "hisp_eng_scripts Index(['file', 'trans', 'speaker'], dtype='object')\n",
      "librispeechtrain_scripts Index(['file', 'trans', 'speaker'], dtype='object')\n",
      "maheshchandra_scripts Index(['file', 'trans', 'speaker'], dtype='object')\n",
      "wsjcam0_scripts Index(['file', 'trans', 'speaker'], dtype='object')\n"
     ]
    }
   ],
   "source": [
    "mode = 'train'\n",
    "max_duration = 100\n",
    "dfs = []\n",
    "for dataset in datasets:\n",
    "    data_dir = dataset.replace('_scripts', '')\n",
    "    df = pd.read_csv(f'{dataset}/trans_{mode}.csv', index_col=0)\n",
    "    print(dataset, df.columns)\n",
    "    df['file'] = [f'{data_dir}/{f}' for f in df['file']]\n",
    "    \n",
    "    if 'start' not in df.columns:\n",
    "        assert 'end' not in df.columns\n",
    "        df['start'] = 0.0\n",
    "        df['end'] = [librosa.get_duration(filename=f\"../{f}\") for f in df.file]\n",
    "    df['duration'] = df['end'] - df['start']\n",
    "    dialect = dataset2dialect[dataset]\n",
    "    df['dialect'] = dialect\n",
    "    df['dialect_int'] = dialect2id[dialect]\n",
    "    df['trans_length'] = [len(trn) for trn in df.trans ]\n",
    "    df['trans_int'] = [ ' '.join([str(label2int[l]) for l in trn]) for trn in df.trans ]\n",
    "    df = df[df.duration<max_duration]\n",
    "    dfs.append(df)"
   ]
  },
  {
   "cell_type": "code",
   "execution_count": 178,
   "metadata": {},
   "outputs": [],
   "source": [
    "df_merged = pd.concat(dfs)"
   ]
  },
  {
   "cell_type": "code",
   "execution_count": 179,
   "metadata": {},
   "outputs": [
    {
     "data": {
      "text/html": [
       "<div>\n",
       "<style scoped>\n",
       "    .dataframe tbody tr th:only-of-type {\n",
       "        vertical-align: middle;\n",
       "    }\n",
       "\n",
       "    .dataframe tbody tr th {\n",
       "        vertical-align: top;\n",
       "    }\n",
       "\n",
       "    .dataframe thead th {\n",
       "        text-align: right;\n",
       "    }\n",
       "</style>\n",
       "<table border=\"1\" class=\"dataframe\">\n",
       "  <thead>\n",
       "    <tr style=\"text-align: right;\">\n",
       "      <th></th>\n",
       "      <th>file</th>\n",
       "      <th>trans</th>\n",
       "      <th>speaker</th>\n",
       "      <th>start</th>\n",
       "      <th>end</th>\n",
       "      <th>duration</th>\n",
       "      <th>dialect</th>\n",
       "      <th>dialect_int</th>\n",
       "      <th>trans_length</th>\n",
       "      <th>trans_int</th>\n",
       "    </tr>\n",
       "  </thead>\n",
       "  <tbody>\n",
       "    <tr>\n",
       "      <td>24322</td>\n",
       "      <td>librispeechtrain/1737/142396/1737-142396-0004....</td>\n",
       "      <td>YET THEY WENT THERE REGULARLY OF THEIR OWN ACC...</td>\n",
       "      <td>libri1737</td>\n",
       "      <td>0.0000</td>\n",
       "      <td>11.340000</td>\n",
       "      <td>11.340000</td>\n",
       "      <td>american</td>\n",
       "      <td>2</td>\n",
       "      <td>208</td>\n",
       "      <td>26 6 21 28 21 9 6 26 28 24 6 15 21 28 21 9 6 1...</td>\n",
       "    </tr>\n",
       "    <tr>\n",
       "      <td>1003</td>\n",
       "      <td>librispeechtrain/6454/107462/6454-107462-0024....</td>\n",
       "      <td>THERE WAS ONE OF THIS NATURE WHICH TROUBLED HI...</td>\n",
       "      <td>libri6454</td>\n",
       "      <td>0.0000</td>\n",
       "      <td>14.015000</td>\n",
       "      <td>14.015000</td>\n",
       "      <td>american</td>\n",
       "      <td>2</td>\n",
       "      <td>182</td>\n",
       "      <td>21 9 6 19 6 28 24 2 20 28 16 15 6 28 16 7 28 2...</td>\n",
       "    </tr>\n",
       "    <tr>\n",
       "      <td>1396</td>\n",
       "      <td>wsjcam0/data/primary_microphone/si_tr/c1x/c1xc...</td>\n",
       "      <td>ART COLLECTORS AND DEALERS HEAVED A SIGH OF RE...</td>\n",
       "      <td>c1x</td>\n",
       "      <td>0.0000</td>\n",
       "      <td>3.843750</td>\n",
       "      <td>3.843750</td>\n",
       "      <td>british</td>\n",
       "      <td>3</td>\n",
       "      <td>61</td>\n",
       "      <td>2 19 21 28 4 16 13 13 6 4 21 16 19 20 28 2 15 ...</td>\n",
       "    </tr>\n",
       "    <tr>\n",
       "      <td>4762</td>\n",
       "      <td>wsjcam0/data/primary_microphone/si_tr/c0r/c0rc...</td>\n",
       "      <td>IN SOME SECTORS THOUGH INTRIGUING OPTIONS ARE ...</td>\n",
       "      <td>c0r</td>\n",
       "      <td>0.0000</td>\n",
       "      <td>4.656250</td>\n",
       "      <td>4.656250</td>\n",
       "      <td>british</td>\n",
       "      <td>3</td>\n",
       "      <td>58</td>\n",
       "      <td>10 15 28 20 16 14 6 28 20 6 4 21 16 19 20 28 2...</td>\n",
       "    </tr>\n",
       "    <tr>\n",
       "      <td>1787</td>\n",
       "      <td>coraal/DCA_audio_2018.10.06/DCA_se3_ag1_m_04_1...</td>\n",
       "      <td>WE GET OUT BEFORE THE PUBLIC SCHOOLS DO</td>\n",
       "      <td>DCA_se3_ag1_m_04</td>\n",
       "      <td>2074.3484</td>\n",
       "      <td>2076.193200</td>\n",
       "      <td>1.844800</td>\n",
       "      <td>africa_american</td>\n",
       "      <td>0</td>\n",
       "      <td>39</td>\n",
       "      <td>24 6 28 8 6 21 28 16 22 21 28 3 6 7 16 19 6 28...</td>\n",
       "    </tr>\n",
       "    <tr>\n",
       "      <td>99</td>\n",
       "      <td>maheshchandra/wav/sentence154.wav</td>\n",
       "      <td>WHAT TIME IS IT</td>\n",
       "      <td>i2</td>\n",
       "      <td>0.0000</td>\n",
       "      <td>1.741437</td>\n",
       "      <td>1.741437</td>\n",
       "      <td>indian</td>\n",
       "      <td>4</td>\n",
       "      <td>15</td>\n",
       "      <td>24 9 2 21 28 21 10 14 6 28 10 20 28 10 21</td>\n",
       "    </tr>\n",
       "    <tr>\n",
       "      <td>786</td>\n",
       "      <td>wsjcam0/data/primary_microphone/si_tr/c1z/c1zc...</td>\n",
       "      <td>THE FOLLOWING QUESTIONS CAN PROVIDE A STARTING...</td>\n",
       "      <td>c1z</td>\n",
       "      <td>0.0000</td>\n",
       "      <td>8.656250</td>\n",
       "      <td>8.656250</td>\n",
       "      <td>british</td>\n",
       "      <td>3</td>\n",
       "      <td>118</td>\n",
       "      <td>21 9 6 28 7 16 13 13 16 24 10 15 8 28 18 22 6 ...</td>\n",
       "    </tr>\n",
       "    <tr>\n",
       "      <td>27856</td>\n",
       "      <td>librispeechtrain/6209/34600/6209-34600-0022.flac</td>\n",
       "      <td>WHAT A MAN FEELS A CHILD FEELS STILL MORE THE ...</td>\n",
       "      <td>libri6209</td>\n",
       "      <td>0.0000</td>\n",
       "      <td>13.010000</td>\n",
       "      <td>13.010000</td>\n",
       "      <td>american</td>\n",
       "      <td>2</td>\n",
       "      <td>176</td>\n",
       "      <td>24 9 2 21 28 2 28 14 2 15 28 7 6 6 13 20 28 2 ...</td>\n",
       "    </tr>\n",
       "    <tr>\n",
       "      <td>28035</td>\n",
       "      <td>librispeechtrain/5514/19192/5514-19192-0038.flac</td>\n",
       "      <td>A VERY LIVELY AND UTTERLY UNEXPECTED FUSILLADE...</td>\n",
       "      <td>libri5514</td>\n",
       "      <td>0.0000</td>\n",
       "      <td>14.840000</td>\n",
       "      <td>14.840000</td>\n",
       "      <td>american</td>\n",
       "      <td>2</td>\n",
       "      <td>223</td>\n",
       "      <td>2 28 23 6 19 26 28 13 10 23 6 13 26 28 2 15 5 ...</td>\n",
       "    </tr>\n",
       "    <tr>\n",
       "      <td>26733</td>\n",
       "      <td>librispeechtrain/1235/135883/1235-135883-0022....</td>\n",
       "      <td>THE SULTAN WITHOUT WAITING FOR SCHEHERAZADE TO...</td>\n",
       "      <td>libri1235</td>\n",
       "      <td>0.0000</td>\n",
       "      <td>12.510000</td>\n",
       "      <td>12.510000</td>\n",
       "      <td>american</td>\n",
       "      <td>2</td>\n",
       "      <td>189</td>\n",
       "      <td>21 9 6 28 20 22 13 21 2 15 28 24 10 21 9 16 22...</td>\n",
       "    </tr>\n",
       "  </tbody>\n",
       "</table>\n",
       "</div>"
      ],
      "text/plain": [
       "                                                    file  \\\n",
       "24322  librispeechtrain/1737/142396/1737-142396-0004....   \n",
       "1003   librispeechtrain/6454/107462/6454-107462-0024....   \n",
       "1396   wsjcam0/data/primary_microphone/si_tr/c1x/c1xc...   \n",
       "4762   wsjcam0/data/primary_microphone/si_tr/c0r/c0rc...   \n",
       "1787   coraal/DCA_audio_2018.10.06/DCA_se3_ag1_m_04_1...   \n",
       "99                     maheshchandra/wav/sentence154.wav   \n",
       "786    wsjcam0/data/primary_microphone/si_tr/c1z/c1zc...   \n",
       "27856   librispeechtrain/6209/34600/6209-34600-0022.flac   \n",
       "28035   librispeechtrain/5514/19192/5514-19192-0038.flac   \n",
       "26733  librispeechtrain/1235/135883/1235-135883-0022....   \n",
       "\n",
       "                                                   trans           speaker  \\\n",
       "24322  YET THEY WENT THERE REGULARLY OF THEIR OWN ACC...         libri1737   \n",
       "1003   THERE WAS ONE OF THIS NATURE WHICH TROUBLED HI...         libri6454   \n",
       "1396   ART COLLECTORS AND DEALERS HEAVED A SIGH OF RE...               c1x   \n",
       "4762   IN SOME SECTORS THOUGH INTRIGUING OPTIONS ARE ...               c0r   \n",
       "1787             WE GET OUT BEFORE THE PUBLIC SCHOOLS DO  DCA_se3_ag1_m_04   \n",
       "99                                       WHAT TIME IS IT                i2   \n",
       "786    THE FOLLOWING QUESTIONS CAN PROVIDE A STARTING...               c1z   \n",
       "27856  WHAT A MAN FEELS A CHILD FEELS STILL MORE THE ...         libri6209   \n",
       "28035  A VERY LIVELY AND UTTERLY UNEXPECTED FUSILLADE...         libri5514   \n",
       "26733  THE SULTAN WITHOUT WAITING FOR SCHEHERAZADE TO...         libri1235   \n",
       "\n",
       "           start          end   duration          dialect  dialect_int  \\\n",
       "24322     0.0000    11.340000  11.340000         american            2   \n",
       "1003      0.0000    14.015000  14.015000         american            2   \n",
       "1396      0.0000     3.843750   3.843750          british            3   \n",
       "4762      0.0000     4.656250   4.656250          british            3   \n",
       "1787   2074.3484  2076.193200   1.844800  africa_american            0   \n",
       "99        0.0000     1.741437   1.741437           indian            4   \n",
       "786       0.0000     8.656250   8.656250          british            3   \n",
       "27856     0.0000    13.010000  13.010000         american            2   \n",
       "28035     0.0000    14.840000  14.840000         american            2   \n",
       "26733     0.0000    12.510000  12.510000         american            2   \n",
       "\n",
       "       trans_length                                          trans_int  \n",
       "24322           208  26 6 21 28 21 9 6 26 28 24 6 15 21 28 21 9 6 1...  \n",
       "1003            182  21 9 6 19 6 28 24 2 20 28 16 15 6 28 16 7 28 2...  \n",
       "1396             61  2 19 21 28 4 16 13 13 6 4 21 16 19 20 28 2 15 ...  \n",
       "4762             58  10 15 28 20 16 14 6 28 20 6 4 21 16 19 20 28 2...  \n",
       "1787             39  24 6 28 8 6 21 28 16 22 21 28 3 6 7 16 19 6 28...  \n",
       "99               15          24 9 2 21 28 21 10 14 6 28 10 20 28 10 21  \n",
       "786             118  21 9 6 28 7 16 13 13 16 24 10 15 8 28 18 22 6 ...  \n",
       "27856           176  24 9 2 21 28 2 28 14 2 15 28 7 6 6 13 20 28 2 ...  \n",
       "28035           223  2 28 23 6 19 26 28 13 10 23 6 13 26 28 2 15 5 ...  \n",
       "26733           189  21 9 6 28 20 22 13 21 2 15 28 24 10 21 9 16 22...  "
      ]
     },
     "execution_count": 179,
     "metadata": {},
     "output_type": "execute_result"
    }
   ],
   "source": [
    "df_merged.sample(10)"
   ]
  },
  {
   "cell_type": "code",
   "execution_count": 180,
   "metadata": {},
   "outputs": [
    {
     "data": {
      "text/plain": [
       "20.0"
      ]
     },
     "execution_count": 180,
     "metadata": {},
     "output_type": "execute_result"
    }
   ],
   "source": [
    "df_merged[df_merged.duration<100].duration.max()"
   ]
  },
  {
   "cell_type": "code",
   "execution_count": 182,
   "metadata": {},
   "outputs": [
    {
     "data": {
      "text/plain": [
       "47978"
      ]
     },
     "execution_count": 182,
     "metadata": {},
     "output_type": "execute_result"
    }
   ],
   "source": [
    "len(df_merged)"
   ]
  },
  {
   "cell_type": "code",
   "execution_count": 183,
   "metadata": {},
   "outputs": [],
   "source": [
    "df_merged.to_csv(f'trans_{mode}.csv')"
   ]
  },
  {
   "cell_type": "code",
   "execution_count": 136,
   "metadata": {},
   "outputs": [],
   "source": [
    "from collections import Counter\n",
    "cnt = Counter(df_merged.dialect)"
   ]
  },
  {
   "cell_type": "code",
   "execution_count": 137,
   "metadata": {},
   "outputs": [
    {
     "data": {
      "text/plain": [
       "Counter({'afrikaan': 388,\n",
       "         'xhosa_zulu_sotho': 369,\n",
       "         'africa_american': 1806,\n",
       "         'spanish_central_south_america': 35,\n",
       "         'american': 2924,\n",
       "         'indian': 20,\n",
       "         'british': 1134})"
      ]
     },
     "execution_count": 137,
     "metadata": {},
     "output_type": "execute_result"
    }
   ],
   "source": [
    "cnt"
   ]
  },
  {
   "cell_type": "code",
   "execution_count": 138,
   "metadata": {},
   "outputs": [
    {
     "data": {
      "text/plain": [
       "29"
      ]
     },
     "execution_count": 138,
     "metadata": {},
     "output_type": "execute_result"
    }
   ],
   "source": [
    "len(labels)"
   ]
  },
  {
   "cell_type": "code",
   "execution_count": null,
   "metadata": {},
   "outputs": [],
   "source": [
    "df"
   ]
  },
  {
   "cell_type": "code",
   "execution_count": 139,
   "metadata": {},
   "outputs": [
    {
     "data": {
      "text/plain": [
       "91.1305114638448"
      ]
     },
     "execution_count": 139,
     "metadata": {},
     "output_type": "execute_result"
    }
   ],
   "source": [
    "df.trans_length.mean()"
   ]
  },
  {
   "cell_type": "code",
   "execution_count": 140,
   "metadata": {},
   "outputs": [
    {
     "data": {
      "text/plain": [
       "36.95903942405144"
      ]
     },
     "execution_count": 140,
     "metadata": {},
     "output_type": "execute_result"
    }
   ],
   "source": [
    "df.trans_length.std()"
   ]
  },
  {
   "cell_type": "code",
   "execution_count": 141,
   "metadata": {},
   "outputs": [
    {
     "data": {
      "text/plain": [
       "205"
      ]
     },
     "execution_count": 141,
     "metadata": {},
     "output_type": "execute_result"
    }
   ],
   "source": [
    "df.trans_length.max()"
   ]
  },
  {
   "cell_type": "code",
   "execution_count": 146,
   "metadata": {
    "scrolled": true
   },
   "outputs": [
    {
     "data": {
      "text/plain": [
       "<bound method Series.max of 0        53\n",
       "1        81\n",
       "2       155\n",
       "3        24\n",
       "4        48\n",
       "       ... \n",
       "1129     75\n",
       "1130     68\n",
       "1131     52\n",
       "1132     77\n",
       "1133    117\n",
       "Name: trans_length, Length: 1134, dtype: int64>"
      ]
     },
     "execution_count": 146,
     "metadata": {},
     "output_type": "execute_result"
    }
   ],
   "source": [
    "dfs[-1].trans_length.max"
   ]
  },
  {
   "cell_type": "code",
   "execution_count": 148,
   "metadata": {},
   "outputs": [
    {
     "data": {
      "text/plain": [
       "14.21875"
      ]
     },
     "execution_count": 148,
     "metadata": {},
     "output_type": "execute_result"
    }
   ],
   "source": [
    "dfs[-1].duration.max()"
   ]
  },
  {
   "cell_type": "code",
   "execution_count": null,
   "metadata": {},
   "outputs": [],
   "source": []
  }
 ],
 "metadata": {
  "kernelspec": {
   "display_name": "Python 3.6",
   "language": "python",
   "name": "py36"
  },
  "language_info": {
   "codemirror_mode": {
    "name": "ipython",
    "version": 3
   },
   "file_extension": ".py",
   "mimetype": "text/x-python",
   "name": "python",
   "nbconvert_exporter": "python",
   "pygments_lexer": "ipython3",
   "version": "3.6.9"
  },
  "toc": {
   "base_numbering": 1,
   "nav_menu": {},
   "number_sections": true,
   "sideBar": true,
   "skip_h1_title": false,
   "title_cell": "Table of Contents",
   "title_sidebar": "Contents",
   "toc_cell": false,
   "toc_position": {},
   "toc_section_display": true,
   "toc_window_display": false
  }
 },
 "nbformat": 4,
 "nbformat_minor": 2
}
