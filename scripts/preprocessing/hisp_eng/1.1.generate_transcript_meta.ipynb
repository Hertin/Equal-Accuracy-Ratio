{
 "cells": [
  {
   "cell_type": "code",
   "execution_count": 1,
   "metadata": {},
   "outputs": [],
   "source": [
    "import pandas as pd\n",
    "import os\n",
    "import json\n",
    "if 'cd' not in globals():\n",
    "    os.chdir('..')\n",
    "    cd = True\n"
   ]
  },
  {
   "cell_type": "code",
   "execution_count": 2,
   "metadata": {},
   "outputs": [],
   "source": [
    "transcription_path = 'data/100sentences/prompts/prompts.engl'\n",
    "id_transcription_map = {}\n",
    "with open(transcription_path, 'r') as f:\n",
    "    for l in f:\n",
    "        utt_id, trans = l.strip().split('   ')\n",
    "        trans = trans.replace('.', '').replace(',', '').replace('!', '').upper()\n",
    "        id_transcription_map[utt_id] = trans"
   ]
  },
  {
   "cell_type": "code",
   "execution_count": 3,
   "metadata": {},
   "outputs": [],
   "source": [
    "with open('scripts/labels.json', 'r') as f:\n",
    "    labels = json.load(f)\n",
    "def check_characters(string, labels):\n",
    "    for c in string:\n",
    "        if c not in labels:\n",
    "            return False\n",
    "    return True"
   ]
  },
  {
   "cell_type": "code",
   "execution_count": 4,
   "metadata": {},
   "outputs": [
    {
     "data": {
      "text/plain": [
       "{'es001': 'THIS WAS EASY FOR US',\n",
       " 'es002': \"IT'S ILLEGAL TO POSTDATE A CHECK\",\n",
       " 'es003': 'CUT A SMALL CORNER OFF EACH EDGE',\n",
       " 'es004': 'WE ARE OPEN EVERY MONDAY EVENING',\n",
       " 'es005': 'SWING YOUR ARM AS HIGH AS YOU CAN',\n",
       " 'es006': 'GUESS THE QUESTION FROM THE ANSWER',\n",
       " 'es007': 'HE ATE FOUR EXTRA EGGS FOR BREAKFAST',\n",
       " 'es008': 'COCONUT CREAM PIE MAKES A NICE DESSERT',\n",
       " 'es009': 'SERVE THE COLESLAW AFTER I ADD THE OIL',\n",
       " 'es010': 'KEEP THE THERMOMETER UNDER YOUR TONGUE',\n",
       " 'es011': 'BASKETBALL CAN BE AN ENTERTAINING SPORT',\n",
       " 'es012': 'STRAW HATS ARE OUT OF FASHION THIS YEAR',\n",
       " 'es013': 'JANE MAY EARN MORE MONEY BY WORKING HARD',\n",
       " 'es014': 'AN OFFICIAL DEADLINE CANNOT BE POSTPONED',\n",
       " 'es015': 'CALL AN AMBULANCE FOR MEDICAL ASSISTANCE',\n",
       " 'es016': 'MOSQUITOES EXIST IN WARM HUMID CLIMATES',\n",
       " 'es017': 'EVEN I OCCASIONALLY GET THE MONDAY BLUES',\n",
       " 'es018': 'THE NEWS AGENCY HIRED A GREAT JOURNALIST',\n",
       " 'es019': 'MY INSTRUCTIONS DESPERATELY NEED UPDATING',\n",
       " 'es020': 'A LARGE HOUSEHOLD NEEDS LOTS OF APPLIANCES',\n",
       " 'es021': 'ORANGE JUICE TASTES FUNNY AFTER TOOTHPASTE',\n",
       " 'es022': \"SHE DIDN'T EVEN GIVE ME A CHANCE TO REFUSE\",\n",
       " 'es023': \"DON'T ASK ME TO CARRY AN OILY RAG LIKE THAT\",\n",
       " 'es024': 'CRITICAL EQUIPMENT NEEDS PROPER MAINTENANCE',\n",
       " 'es025': 'GOOD SERVICE SHOULD BE REWARDED BY BIG TIPS',\n",
       " 'es026': 'COMBINE ALL THE INGREDIENTS IN A LARGE BOWL',\n",
       " 'es027': 'TOO MUCH CURIOSITY CAN GET YOU INTO TROUBLE',\n",
       " 'es028': \"ARE YOUR GRADES HIGHER OR LOWER THAN NANCY'S?\",\n",
       " 'es029': 'EAT YOUR RAISINS OUTDOORS ON THE PORCH STEPS',\n",
       " 'es030': \"IT'S HARD TO TELL AN ORIGINAL FROM A FORGERY\",\n",
       " 'es031': 'WHO AUTHORIZED THE UNLIMITED EXPENSE ACCOUNT?',\n",
       " 'es032': 'DROP FIVE FORMS IN THE BOX BEFORE YOU GO OUT',\n",
       " 'es033': \"NO HE DIDN'T KNOW OF ANY HANDYMAN-CARPENTER\",\n",
       " 'es034': \"BARB'S GOLD BRACELET WAS A GRADUATION PRESENT\",\n",
       " 'es035': 'ANY CONTRIBUTIONS WILL BE GREATLY APPRECIATED',\n",
       " 'es036': 'THEY REMAINED LIFELONG FRIENDS AND COMPANIONS',\n",
       " 'es037': 'MICHAEL COLORED THE BEDROOM WALL WITH CRAYONS',\n",
       " 'es038': 'A DOCTOR WAS IN THE AMBULANCE WITH THE PATIENT',\n",
       " 'es039': 'THE BEST WAY TO LEARN IS TO SOLVE EXTRA PROBLEMS',\n",
       " 'es040': 'IN THE LONG RUN IT PAYS TO BUY QUALITY CLOTHING',\n",
       " 'es041': 'CHOCOLATE AND ROSES NEVER FAIL AS A ROMANTIC GIFT',\n",
       " 'es042': 'SHE HAD YOUR DARK SUIT IN GREASY WASH WATER ALL YEAR',\n",
       " 'es043': \"LAST YEAR'S GAS SHORTAGE CAUSED STEEP PRICE INCREASES\",\n",
       " 'es044': 'DECEMBER AND JANUARY ARE NICE MONTHS TO SPEND IN MIAMI',\n",
       " 'es045': 'DRAW EVERY OUTER LINE FIRST THEN FILL IN THE INTERIOR',\n",
       " 'es046': 'GREGORY AND TOM CHOSE TO WATCH CARTOONS IN THE AFTERNOON',\n",
       " 'es047': 'MILITARY PERSONNEL ARE EXPECTED TO OBEY GOVERNMENT ORDERS',\n",
       " 'es048': 'KINDERGARTEN CHILDREN DECORATE THEIR CLASSROOMS FOR ALL HOLIDAYS',\n",
       " 'es049': 'SCIENTIFIC PROGRESS COMES FROM THE DEVELOPMENT OF NEW TECHNIQUES',\n",
       " 'es050': 'SHE ENCOURAGED HER CHILDREN TO MAKE THEIR OWN HALLOWEEN COSTUMES'}"
      ]
     },
     "execution_count": 4,
     "metadata": {},
     "output_type": "execute_result"
    }
   ],
   "source": [
    "id_transcription_map"
   ]
  },
  {
   "cell_type": "code",
   "execution_count": 5,
   "metadata": {},
   "outputs": [
    {
     "data": {
      "text/plain": [
       "['ero2', 'gherrera2', 'ahe2', 'rgonzalez2', 'aes2', 'mro2', 'hfr2', 'gba2']"
      ]
     },
     "execution_count": 5,
     "metadata": {},
     "output_type": "execute_result"
    }
   ],
   "source": [
    "audio_dir = 'data/100sentences/sents_engl'\n",
    "os.listdir(audio_dir)"
   ]
  },
  {
   "cell_type": "code",
   "execution_count": 22,
   "metadata": {},
   "outputs": [],
   "source": [
    "mode = 'dev'"
   ]
  },
  {
   "cell_type": "code",
   "execution_count": 23,
   "metadata": {},
   "outputs": [],
   "source": [
    "train_speakers = ['ero2', 'gherrera2', 'ahe2', 'rgonzalez2', 'aes2', 'mro2']\n",
    "dev_speakers = ['hfr2']\n",
    "test_speakers = ['gba2']"
   ]
  },
  {
   "cell_type": "code",
   "execution_count": 24,
   "metadata": {},
   "outputs": [
    {
     "name": "stdout",
     "output_type": "stream",
     "text": [
      "0th file\n"
     ]
    }
   ],
   "source": [
    "file_trans = []\n",
    "for speaker_folder in os.listdir(audio_dir):\n",
    "    if not speaker_folder in eval(f'{mode}_speakers'):\n",
    "        continue\n",
    "    if len(os.listdir(f'{audio_dir}/{speaker_folder}')) == 2:\n",
    "        audio_folder =  f'{audio_dir}/{speaker_folder}/{speaker_folder}_good'\n",
    "    else:\n",
    "        audio_folder =  f'{audio_dir}/{speaker_folder}'\n",
    "    for filename in os.listdir(audio_folder):\n",
    "        if not filename.endswith('.flac'):\n",
    "            continue\n",
    "        \n",
    "        if len(file_trans) % 1000 == 0:\n",
    "            print(f'{len(file_trans)}th file')\n",
    "        speaker, utt_id, extname = filename.split('.')\n",
    "        audio_path = f'{audio_dir}/{speaker_folder}/{speaker_folder}_good/{filename}'\n",
    "        trans = id_transcription_map[utt_id]\n",
    "        if check_characters(trans, labels) and len(trans) > 10:\n",
    "            file_trans.append((audio_path, trans, speaker_folder))\n"
   ]
  },
  {
   "cell_type": "code",
   "execution_count": 25,
   "metadata": {},
   "outputs": [
    {
     "data": {
      "text/plain": [
       "[('data/100sentences/sents_engl/hfr2/hfr2_good/hfr2.es022.flac',\n",
       "  \"SHE DIDN'T EVEN GIVE ME A CHANCE TO REFUSE\",\n",
       "  'hfr2'),\n",
       " ('data/100sentences/sents_engl/hfr2/hfr2_good/hfr2.es007.flac',\n",
       "  'HE ATE FOUR EXTRA EGGS FOR BREAKFAST',\n",
       "  'hfr2'),\n",
       " ('data/100sentences/sents_engl/hfr2/hfr2_good/hfr2.es038.flac',\n",
       "  'A DOCTOR WAS IN THE AMBULANCE WITH THE PATIENT',\n",
       "  'hfr2'),\n",
       " ('data/100sentences/sents_engl/hfr2/hfr2_good/hfr2.es037.flac',\n",
       "  'MICHAEL COLORED THE BEDROOM WALL WITH CRAYONS',\n",
       "  'hfr2'),\n",
       " ('data/100sentences/sents_engl/hfr2/hfr2_good/hfr2.es002.flac',\n",
       "  \"IT'S ILLEGAL TO POSTDATE A CHECK\",\n",
       "  'hfr2'),\n",
       " ('data/100sentences/sents_engl/hfr2/hfr2_good/hfr2.es005.flac',\n",
       "  'SWING YOUR ARM AS HIGH AS YOU CAN',\n",
       "  'hfr2'),\n",
       " ('data/100sentences/sents_engl/hfr2/hfr2_good/hfr2.es021.flac',\n",
       "  'ORANGE JUICE TASTES FUNNY AFTER TOOTHPASTE',\n",
       "  'hfr2'),\n",
       " ('data/100sentences/sents_engl/hfr2/hfr2_good/hfr2.es042.flac',\n",
       "  'SHE HAD YOUR DARK SUIT IN GREASY WASH WATER ALL YEAR',\n",
       "  'hfr2'),\n",
       " ('data/100sentences/sents_engl/hfr2/hfr2_good/hfr2.es020.flac',\n",
       "  'A LARGE HOUSEHOLD NEEDS LOTS OF APPLIANCES',\n",
       "  'hfr2'),\n",
       " ('data/100sentences/sents_engl/hfr2/hfr2_good/hfr2.es006.flac',\n",
       "  'GUESS THE QUESTION FROM THE ANSWER',\n",
       "  'hfr2'),\n",
       " ('data/100sentences/sents_engl/hfr2/hfr2_good/hfr2.es017.flac',\n",
       "  'EVEN I OCCASIONALLY GET THE MONDAY BLUES',\n",
       "  'hfr2'),\n",
       " ('data/100sentences/sents_engl/hfr2/hfr2_good/hfr2.es009.flac',\n",
       "  'SERVE THE COLESLAW AFTER I ADD THE OIL',\n",
       "  'hfr2'),\n",
       " ('data/100sentences/sents_engl/hfr2/hfr2_good/hfr2.es048.flac',\n",
       "  'KINDERGARTEN CHILDREN DECORATE THEIR CLASSROOMS FOR ALL HOLIDAYS',\n",
       "  'hfr2'),\n",
       " ('data/100sentences/sents_engl/hfr2/hfr2_good/hfr2.es027.flac',\n",
       "  'TOO MUCH CURIOSITY CAN GET YOU INTO TROUBLE',\n",
       "  'hfr2'),\n",
       " ('data/100sentences/sents_engl/hfr2/hfr2_good/hfr2.es044.flac',\n",
       "  'DECEMBER AND JANUARY ARE NICE MONTHS TO SPEND IN MIAMI',\n",
       "  'hfr2'),\n",
       " ('data/100sentences/sents_engl/hfr2/hfr2_good/hfr2.es016.flac',\n",
       "  'MOSQUITOES EXIST IN WARM HUMID CLIMATES',\n",
       "  'hfr2'),\n",
       " ('data/100sentences/sents_engl/hfr2/hfr2_good/hfr2.es003.flac',\n",
       "  'CUT A SMALL CORNER OFF EACH EDGE',\n",
       "  'hfr2'),\n",
       " ('data/100sentences/sents_engl/hfr2/hfr2_good/hfr2.es032.flac',\n",
       "  'DROP FIVE FORMS IN THE BOX BEFORE YOU GO OUT',\n",
       "  'hfr2'),\n",
       " ('data/100sentences/sents_engl/hfr2/hfr2_good/hfr2.es019.flac',\n",
       "  'MY INSTRUCTIONS DESPERATELY NEED UPDATING',\n",
       "  'hfr2'),\n",
       " ('data/100sentences/sents_engl/hfr2/hfr2_good/hfr2.es004.flac',\n",
       "  'WE ARE OPEN EVERY MONDAY EVENING',\n",
       "  'hfr2'),\n",
       " ('data/100sentences/sents_engl/hfr2/hfr2_good/hfr2.es018.flac',\n",
       "  'THE NEWS AGENCY HIRED A GREAT JOURNALIST',\n",
       "  'hfr2'),\n",
       " ('data/100sentences/sents_engl/hfr2/hfr2_good/hfr2.es036.flac',\n",
       "  'THEY REMAINED LIFELONG FRIENDS AND COMPANIONS',\n",
       "  'hfr2'),\n",
       " ('data/100sentences/sents_engl/hfr2/hfr2_good/hfr2.es045.flac',\n",
       "  'DRAW EVERY OUTER LINE FIRST THEN FILL IN THE INTERIOR',\n",
       "  'hfr2'),\n",
       " ('data/100sentences/sents_engl/hfr2/hfr2_good/hfr2.es040.flac',\n",
       "  'IN THE LONG RUN IT PAYS TO BUY QUALITY CLOTHING',\n",
       "  'hfr2'),\n",
       " ('data/100sentences/sents_engl/hfr2/hfr2_good/hfr2.es030.flac',\n",
       "  \"IT'S HARD TO TELL AN ORIGINAL FROM A FORGERY\",\n",
       "  'hfr2'),\n",
       " ('data/100sentences/sents_engl/hfr2/hfr2_good/hfr2.es010.flac',\n",
       "  'KEEP THE THERMOMETER UNDER YOUR TONGUE',\n",
       "  'hfr2'),\n",
       " ('data/100sentences/sents_engl/hfr2/hfr2_good/hfr2.es029.flac',\n",
       "  'EAT YOUR RAISINS OUTDOORS ON THE PORCH STEPS',\n",
       "  'hfr2'),\n",
       " ('data/100sentences/sents_engl/hfr2/hfr2_good/hfr2.es023.flac',\n",
       "  \"DON'T ASK ME TO CARRY AN OILY RAG LIKE THAT\",\n",
       "  'hfr2'),\n",
       " ('data/100sentences/sents_engl/hfr2/hfr2_good/hfr2.es008.flac',\n",
       "  'COCONUT CREAM PIE MAKES A NICE DESSERT',\n",
       "  'hfr2'),\n",
       " ('data/100sentences/sents_engl/hfr2/hfr2_good/hfr2.es011.flac',\n",
       "  'BASKETBALL CAN BE AN ENTERTAINING SPORT',\n",
       "  'hfr2'),\n",
       " ('data/100sentences/sents_engl/hfr2/hfr2_good/hfr2.es024.flac',\n",
       "  'CRITICAL EQUIPMENT NEEDS PROPER MAINTENANCE',\n",
       "  'hfr2'),\n",
       " ('data/100sentences/sents_engl/hfr2/hfr2_good/hfr2.es035.flac',\n",
       "  'ANY CONTRIBUTIONS WILL BE GREATLY APPRECIATED',\n",
       "  'hfr2'),\n",
       " ('data/100sentences/sents_engl/hfr2/hfr2_good/hfr2.es014.flac',\n",
       "  'AN OFFICIAL DEADLINE CANNOT BE POSTPONED',\n",
       "  'hfr2'),\n",
       " ('data/100sentences/sents_engl/hfr2/hfr2_good/hfr2.es043.flac',\n",
       "  \"LAST YEAR'S GAS SHORTAGE CAUSED STEEP PRICE INCREASES\",\n",
       "  'hfr2'),\n",
       " ('data/100sentences/sents_engl/hfr2/hfr2_good/hfr2.es050.flac',\n",
       "  'SHE ENCOURAGED HER CHILDREN TO MAKE THEIR OWN HALLOWEEN COSTUMES',\n",
       "  'hfr2'),\n",
       " ('data/100sentences/sents_engl/hfr2/hfr2_good/hfr2.es015.flac',\n",
       "  'CALL AN AMBULANCE FOR MEDICAL ASSISTANCE',\n",
       "  'hfr2'),\n",
       " ('data/100sentences/sents_engl/hfr2/hfr2_good/hfr2.es047.flac',\n",
       "  'MILITARY PERSONNEL ARE EXPECTED TO OBEY GOVERNMENT ORDERS',\n",
       "  'hfr2'),\n",
       " ('data/100sentences/sents_engl/hfr2/hfr2_good/hfr2.es049.flac',\n",
       "  'SCIENTIFIC PROGRESS COMES FROM THE DEVELOPMENT OF NEW TECHNIQUES',\n",
       "  'hfr2'),\n",
       " ('data/100sentences/sents_engl/hfr2/hfr2_good/hfr2.es046.flac',\n",
       "  'GREGORY AND TOM CHOSE TO WATCH CARTOONS IN THE AFTERNOON',\n",
       "  'hfr2'),\n",
       " ('data/100sentences/sents_engl/hfr2/hfr2_good/hfr2.es013.flac',\n",
       "  'JANE MAY EARN MORE MONEY BY WORKING HARD',\n",
       "  'hfr2'),\n",
       " ('data/100sentences/sents_engl/hfr2/hfr2_good/hfr2.es012.flac',\n",
       "  'STRAW HATS ARE OUT OF FASHION THIS YEAR',\n",
       "  'hfr2'),\n",
       " ('data/100sentences/sents_engl/hfr2/hfr2_good/hfr2.es025.flac',\n",
       "  'GOOD SERVICE SHOULD BE REWARDED BY BIG TIPS',\n",
       "  'hfr2'),\n",
       " ('data/100sentences/sents_engl/hfr2/hfr2_good/hfr2.es039.flac',\n",
       "  'THE BEST WAY TO LEARN IS TO SOLVE EXTRA PROBLEMS',\n",
       "  'hfr2'),\n",
       " ('data/100sentences/sents_engl/hfr2/hfr2_good/hfr2.es026.flac',\n",
       "  'COMBINE ALL THE INGREDIENTS IN A LARGE BOWL',\n",
       "  'hfr2'),\n",
       " ('data/100sentences/sents_engl/hfr2/hfr2_good/hfr2.es041.flac',\n",
       "  'CHOCOLATE AND ROSES NEVER FAIL AS A ROMANTIC GIFT',\n",
       "  'hfr2'),\n",
       " ('data/100sentences/sents_engl/hfr2/hfr2_good/hfr2.es001.flac',\n",
       "  'THIS WAS EASY FOR US',\n",
       "  'hfr2')]"
      ]
     },
     "execution_count": 25,
     "metadata": {},
     "output_type": "execute_result"
    }
   ],
   "source": [
    "file_trans"
   ]
  },
  {
   "cell_type": "code",
   "execution_count": 26,
   "metadata": {},
   "outputs": [
    {
     "data": {
      "text/plain": [
       "46"
      ]
     },
     "execution_count": 26,
     "metadata": {},
     "output_type": "execute_result"
    }
   ],
   "source": [
    "len(file_trans)"
   ]
  },
  {
   "cell_type": "code",
   "execution_count": 27,
   "metadata": {},
   "outputs": [],
   "source": [
    "df = pd.DataFrame(file_trans, columns=['file', 'trans', 'speaker'])"
   ]
  },
  {
   "cell_type": "code",
   "execution_count": 28,
   "metadata": {},
   "outputs": [],
   "source": [
    "df.to_csv(f'scripts/trans_{mode}.csv')"
   ]
  },
  {
   "cell_type": "code",
   "execution_count": 29,
   "metadata": {},
   "outputs": [
    {
     "data": {
      "text/html": [
       "<div>\n",
       "<style scoped>\n",
       "    .dataframe tbody tr th:only-of-type {\n",
       "        vertical-align: middle;\n",
       "    }\n",
       "\n",
       "    .dataframe tbody tr th {\n",
       "        vertical-align: top;\n",
       "    }\n",
       "\n",
       "    .dataframe thead th {\n",
       "        text-align: right;\n",
       "    }\n",
       "</style>\n",
       "<table border=\"1\" class=\"dataframe\">\n",
       "  <thead>\n",
       "    <tr style=\"text-align: right;\">\n",
       "      <th></th>\n",
       "      <th>file</th>\n",
       "      <th>trans</th>\n",
       "      <th>speaker</th>\n",
       "    </tr>\n",
       "  </thead>\n",
       "  <tbody>\n",
       "    <tr>\n",
       "      <td>0</td>\n",
       "      <td>data/100sentences/sents_engl/hfr2/hfr2_good/hf...</td>\n",
       "      <td>SHE DIDN'T EVEN GIVE ME A CHANCE TO REFUSE</td>\n",
       "      <td>hfr2</td>\n",
       "    </tr>\n",
       "    <tr>\n",
       "      <td>1</td>\n",
       "      <td>data/100sentences/sents_engl/hfr2/hfr2_good/hf...</td>\n",
       "      <td>HE ATE FOUR EXTRA EGGS FOR BREAKFAST</td>\n",
       "      <td>hfr2</td>\n",
       "    </tr>\n",
       "    <tr>\n",
       "      <td>2</td>\n",
       "      <td>data/100sentences/sents_engl/hfr2/hfr2_good/hf...</td>\n",
       "      <td>A DOCTOR WAS IN THE AMBULANCE WITH THE PATIENT</td>\n",
       "      <td>hfr2</td>\n",
       "    </tr>\n",
       "    <tr>\n",
       "      <td>3</td>\n",
       "      <td>data/100sentences/sents_engl/hfr2/hfr2_good/hf...</td>\n",
       "      <td>MICHAEL COLORED THE BEDROOM WALL WITH CRAYONS</td>\n",
       "      <td>hfr2</td>\n",
       "    </tr>\n",
       "    <tr>\n",
       "      <td>4</td>\n",
       "      <td>data/100sentences/sents_engl/hfr2/hfr2_good/hf...</td>\n",
       "      <td>IT'S ILLEGAL TO POSTDATE A CHECK</td>\n",
       "      <td>hfr2</td>\n",
       "    </tr>\n",
       "  </tbody>\n",
       "</table>\n",
       "</div>"
      ],
      "text/plain": [
       "                                                file  \\\n",
       "0  data/100sentences/sents_engl/hfr2/hfr2_good/hf...   \n",
       "1  data/100sentences/sents_engl/hfr2/hfr2_good/hf...   \n",
       "2  data/100sentences/sents_engl/hfr2/hfr2_good/hf...   \n",
       "3  data/100sentences/sents_engl/hfr2/hfr2_good/hf...   \n",
       "4  data/100sentences/sents_engl/hfr2/hfr2_good/hf...   \n",
       "\n",
       "                                            trans speaker  \n",
       "0      SHE DIDN'T EVEN GIVE ME A CHANCE TO REFUSE    hfr2  \n",
       "1            HE ATE FOUR EXTRA EGGS FOR BREAKFAST    hfr2  \n",
       "2  A DOCTOR WAS IN THE AMBULANCE WITH THE PATIENT    hfr2  \n",
       "3   MICHAEL COLORED THE BEDROOM WALL WITH CRAYONS    hfr2  \n",
       "4                IT'S ILLEGAL TO POSTDATE A CHECK    hfr2  "
      ]
     },
     "execution_count": 29,
     "metadata": {},
     "output_type": "execute_result"
    }
   ],
   "source": [
    "df.head()"
   ]
  },
  {
   "cell_type": "code",
   "execution_count": null,
   "metadata": {},
   "outputs": [],
   "source": []
  }
 ],
 "metadata": {
  "kernelspec": {
   "display_name": "Python 3.6",
   "language": "python",
   "name": "py36"
  },
  "language_info": {
   "codemirror_mode": {
    "name": "ipython",
    "version": 3
   },
   "file_extension": ".py",
   "mimetype": "text/x-python",
   "name": "python",
   "nbconvert_exporter": "python",
   "pygments_lexer": "ipython3",
   "version": "3.6.9"
  },
  "toc": {
   "base_numbering": 1,
   "nav_menu": {},
   "number_sections": true,
   "sideBar": true,
   "skip_h1_title": false,
   "title_cell": "Table of Contents",
   "title_sidebar": "Contents",
   "toc_cell": false,
   "toc_position": {},
   "toc_section_display": true,
   "toc_window_display": false
  }
 },
 "nbformat": 4,
 "nbformat_minor": 2
}
